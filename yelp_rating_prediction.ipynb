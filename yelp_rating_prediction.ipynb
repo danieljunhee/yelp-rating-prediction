{
 "cells": [
  {
   "cell_type": "markdown",
   "metadata": {},
   "source": [
    "# Yelp Restaurant Analysis and Rating Prediction\n",
    "\n",
    "## Team Members\n",
    "Jun Hee Kim, Nikhil Rangarajan, Sander Shi\n",
    "\n",
    "## Procedure\n",
    "* Gather data from the Yelp API\n",
    "* Extract and format features from the data\n",
    "* Feature analysis and Variable selection\n",
    "* Train using logistic regression\n",
    "* Fine-tuning for logistic regression (regularization, etc.) \n",
    "* Train using neural network\n",
    "* Fine-tuning for neural network (alteration of architecture, etc.)\n",
    "* Model Selection using validation\n",
    "* Final Analysis"
   ]
  },
  {
   "cell_type": "markdown",
   "metadata": {},
   "source": [
    "## Part 0: Imports and Definitions of Constants\n",
    "\n",
    "We will be using `pandas` to parse the data and `tensorflow` to construct the machine learning models."
   ]
  },
  {
   "cell_type": "code",
   "execution_count": 1,
   "metadata": {
    "collapsed": true
   },
   "outputs": [],
   "source": [
    "import tensorflow as tf\n",
    "import numpy as np\n",
    "import pandas as pd\n",
    "\n",
    "API_URL = \"https://api.yelp.com/v3/businesses/search\""
   ]
  },
  {
   "cell_type": "markdown",
   "metadata": {},
   "source": [
    "## Part 1: Data Gathering"
   ]
  },
  {
   "cell_type": "code",
   "execution_count": 2,
   "metadata": {
    "collapsed": true
   },
   "outputs": [],
   "source": [
    "def get_data():\n",
    "    \"\"\"\n",
    "    This function loads all restaurant data from restaurants in Pittsburgh.\n",
    "    \"\"\"\n",
    "    pass\n",
    "\n",
    "all_restaurants_raw = get_data()"
   ]
  },
  {
   "cell_type": "markdown",
   "metadata": {},
   "source": [
    "## Part 2: Feature Extraction"
   ]
  },
  {
   "cell_type": "code",
   "execution_count": 3,
   "metadata": {
    "collapsed": true
   },
   "outputs": [],
   "source": [
    "def extract_features(raw_data):\n",
    "    \"\"\"\n",
    "    This function extracts the features from raw restaurant data.\n",
    "    \"\"\"\n",
    "    pass\n",
    "\n",
    "labeled_features = extract_features(all_restaurants_raw)"
   ]
  },
  {
   "cell_type": "markdown",
   "metadata": {
    "collapsed": true
   },
   "source": [
    "## Part 3: Logistic Regression"
   ]
  },
  {
   "cell_type": "code",
   "execution_count": 4,
   "metadata": {
    "collapsed": true
   },
   "outputs": [],
   "source": [
    "def train_logistic(labeled_data):\n",
    "    \"\"\"\n",
    "    This function trains the features using logistic regression.\n",
    "    \"\"\"\n",
    "    pass\n",
    "\n",
    "theta = train_logistic(labeled_features)"
   ]
  },
  {
   "cell_type": "markdown",
   "metadata": {},
   "source": [
    "## Part 4: Neural Network"
   ]
  },
  {
   "cell_type": "code",
   "execution_count": 5,
   "metadata": {
    "collapsed": true
   },
   "outputs": [],
   "source": [
    "def train_neural_net(labeled_data):\n",
    "    \"\"\"\n",
    "    This function trains the features using a neural network.\n",
    "    \"\"\"\n",
    "    pass\n",
    "\n",
    "thetas_nn = train_neural_net(labeled_features)"
   ]
  },
  {
   "cell_type": "markdown",
   "metadata": {},
   "source": [
    "## Part 5: Predictions and Testing Accuracy"
   ]
  },
  {
   "cell_type": "code",
   "execution_count": 6,
   "metadata": {
    "collapsed": true
   },
   "outputs": [],
   "source": [
    "def predict_logistic(features, trained):\n",
    "    \"\"\"\n",
    "    This functions gives a prediction using logistic regression.\n",
    "    \"\"\"\n",
    "    pass\n",
    "\n",
    "def predict_nn(features, trained):\n",
    "    \"\"\"\n",
    "    This function gives a prediction using the neural net.\n",
    "    \"\"\"\n",
    "    pass\n",
    "\n",
    "prediction_logistic = predict_logistic(_, theta)\n",
    "prediction_nn = predict_nn(_, thetas_nn)\n",
    "\n",
    "def report_accuracy_logistic(trained):\n",
    "    pass\n",
    "\n",
    "def report_accuracy_nn(trained):\n",
    "    pass"
   ]
  }
 ],
 "metadata": {
  "kernelspec": {
   "display_name": "Python 3",
   "language": "python",
   "name": "python3"
  },
  "language_info": {
   "codemirror_mode": {
    "name": "ipython",
    "version": 3
   },
   "file_extension": ".py",
   "mimetype": "text/x-python",
   "name": "python",
   "nbconvert_exporter": "python",
   "pygments_lexer": "ipython3",
   "version": "3.6.4"
  }
 },
 "nbformat": 4,
 "nbformat_minor": 2
}
